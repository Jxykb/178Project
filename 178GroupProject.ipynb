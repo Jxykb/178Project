{
  "nbformat": 4,
  "nbformat_minor": 0,
  "metadata": {
    "colab": {
      "provenance": [],
      "authorship_tag": "ABX9TyOc9dlaWES9Pm/dWkT2jpml",
      "include_colab_link": true
    },
    "kernelspec": {
      "name": "python3",
      "display_name": "Python 3"
    },
    "language_info": {
      "name": "python"
    }
  },
  "cells": [
    {
      "cell_type": "markdown",
      "metadata": {
        "id": "view-in-github",
        "colab_type": "text"
      },
      "source": [
        "<a href=\"https://colab.research.google.com/github/Jxykb/178Project/blob/main/178GroupProject.ipynb\" target=\"_parent\"><img src=\"https://colab.research.google.com/assets/colab-badge.svg\" alt=\"Open In Colab\"/></a>"
      ]
    },
    {
      "cell_type": "markdown",
      "source": [
        "#This is the start of the project"
      ],
      "metadata": {
        "id": "yYar-QV44lx9"
      }
    },
    {
      "cell_type": "markdown",
      "source": [
        "test"
      ],
      "metadata": {
        "id": "A6HuEKuD9GAo"
      }
    },
    {
      "cell_type": "code",
      "execution_count": 2,
      "metadata": {
        "colab": {
          "base_uri": "https://localhost:8080/"
        },
        "id": "WblE5BJ_4OCd",
        "outputId": "ff50f450-7806-4352-a3af-eea7620c2425"
      },
      "outputs": [
        {
          "output_type": "stream",
          "name": "stdout",
          "text": [
            "Test...Starting...\n"
          ]
        }
      ],
      "source": [
        "print(\"Test...Starting...\")"
      ]
    },
    {
      "cell_type": "markdown",
      "source": [
        "#Imports for our models"
      ],
      "metadata": {
        "id": "eIsK0fzA_N1J"
      }
    },
    {
      "cell_type": "code",
      "source": [
        "import numpy as np\n",
        "import matplotlib.pyplot as plt\n",
        "\n",
        "#our classifiers\n",
        "#3 required\n",
        "from sklearn.neighbors import KNeighborsClassifier\n",
        "from sklearn.linear_model import LogisticRegression\n",
        "from sklearn.neural_network import MLPClassifier\n",
        "#4 our choice\n",
        "\n",
        "#from ... import ..."
      ],
      "metadata": {
        "id": "Od7CmUUg-uZ4"
      },
      "execution_count": 3,
      "outputs": []
    },
    {
      "cell_type": "markdown",
      "source": [
        "#KNN Classifier"
      ],
      "metadata": {
        "id": "KiKCEtwIAO-H"
      }
    },
    {
      "cell_type": "code",
      "source": [
        "#code for Knn"
      ],
      "metadata": {
        "id": "HMnVXiTfASMW"
      },
      "execution_count": null,
      "outputs": []
    },
    {
      "cell_type": "markdown",
      "source": [
        "#Logistic Regression Classifier"
      ],
      "metadata": {
        "id": "ebzeCBMCAVcH"
      }
    },
    {
      "cell_type": "code",
      "source": [
        "#code for logistic regression"
      ],
      "metadata": {
        "id": "K82uykvTAbz7"
      },
      "execution_count": null,
      "outputs": []
    },
    {
      "cell_type": "markdown",
      "source": [
        "#MLPClassifier / Feed Forward Neural Network"
      ],
      "metadata": {
        "id": "rqlRodDGAUim"
      }
    },
    {
      "cell_type": "code",
      "source": [
        "#code for MLP classifier"
      ],
      "metadata": {
        "id": "abHXXk7aAnHw"
      },
      "execution_count": null,
      "outputs": []
    },
    {
      "cell_type": "markdown",
      "source": [
        "#Our fourth classifier"
      ],
      "metadata": {
        "id": "nx6xurjFAqWP"
      }
    },
    {
      "cell_type": "code",
      "source": [
        "#code for fourth classifier"
      ],
      "metadata": {
        "id": "fL609-MeAupe"
      },
      "execution_count": null,
      "outputs": []
    }
  ]
}